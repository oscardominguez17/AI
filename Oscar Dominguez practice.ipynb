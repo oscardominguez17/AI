{
 "cells": [
  {
   "cell_type": "markdown",
   "metadata": {},
   "source": [
    "### Will a Customer Accept the Coupon?\n",
    "\n",
    "**Context**\n",
    "\n",
    "Imagine driving through town and a coupon is delivered to your cell phone for a restaraunt near where you are driving. Would you accept that coupon and take a short detour to the restaraunt? Would you accept the coupon but use it on a sunbsequent trip? Would you ignore the coupon entirely? What if the coupon was for a bar instead of a restaraunt? What about a coffee house? Would you accept a bar coupon with a minor passenger in the car? What about if it was just you and your partner in the car? Would weather impact the rate of acceptance? What about the time of day?\n",
    "\n",
    "Obviously, proximity to the business is a factor on whether the coupon is delivered to the driver or not, but what are the factors that determine whether a driver accepts the coupon once it is delivered to them? How would you determine whether a driver is likely to accept a coupon?\n",
    "\n",
    "**Overview**\n",
    "\n",
    "The goal of this project is to use what you know about visualizations and probability distributions to distinguish between customers who accepted a driving coupon versus those that did not.\n",
    "\n",
    "**Data**\n",
    "\n",
    "This data comes to us from the UCI Machine Learning repository and was collected via a survey on Amazon Mechanical Turk. The survey describes different driving scenarios including the destination, current time, weather, passenger, etc., and then ask the person whether he will accept the coupon if he is the driver. Answers that the user will drive there ‘right away’ or ‘later before the coupon expires’ are labeled as ‘Y = 1’ and answers ‘no, I do not want the coupon’ are labeled as ‘Y = 0’.  There are five different types of coupons -- less expensive restaurants (under \\\\$20), coffee houses, carry out & take away, bar, and more expensive restaurants (\\\\$20 - \\\\$50). "
   ]
  },
  {
   "cell_type": "markdown",
   "metadata": {},
   "source": [
    "**Deliverables**\n",
    "\n",
    "Your final product should be a brief report that highlights the differences between customers who did and did not accept the coupons.  To explore the data you will utilize your knowledge of plotting, statistical summaries, and visualization using Python. You will publish your findings in a public facing github repository as your first portfolio piece. \n",
    "\n",
    "\n",
    "\n"
   ]
  },
  {
   "cell_type": "markdown",
   "metadata": {},
   "source": [
    "### Data Description\n",
    "Keep in mind that these values mentioned below are average values.\n",
    "\n",
    "The attributes of this data set include:\n",
    "1. User attributes\n",
    "    -  Gender: male, female\n",
    "    -  Age: below 21, 21 to 25, 26 to 30, etc.\n",
    "    -  Marital Status: single, married partner, unmarried partner, or widowed\n",
    "    -  Number of children: 0, 1, or more than 1\n",
    "    -  Education: high school, bachelors degree, associates degree, or graduate degree\n",
    "    -  Occupation: architecture & engineering, business & financial, etc.\n",
    "    -  Annual income: less than \\\\$12500, \\\\$12500 - \\\\$24999, \\\\$25000 - \\\\$37499, etc.\n",
    "    -  Number of times that he/she goes to a bar: 0, less than 1, 1 to 3, 4 to 8 or greater than 8\n",
    "    -  Number of times that he/she buys takeaway food: 0, less than 1, 1 to 3, 4 to 8 or greater\n",
    "    than 8\n",
    "    -  Number of times that he/she goes to a coffee house: 0, less than 1, 1 to 3, 4 to 8 or\n",
    "    greater than 8\n",
    "    -  Number of times that he/she eats at a restaurant with average expense less than \\\\$20 per\n",
    "    person: 0, less than 1, 1 to 3, 4 to 8 or greater than 8\n",
    "    -  Number of times that he/she goes to a bar: 0, less than 1, 1 to 3, 4 to 8 or greater than 8\n",
    "    \n",
    "\n",
    "2. Contextual attributes\n",
    "    - Driving destination: home, work, or no urgent destination\n",
    "    - Location of user, coupon and destination: we provide a map to show the geographical\n",
    "    location of the user, destination, and the venue, and we mark the distance between each\n",
    "    two places with time of driving. The user can see whether the venue is in the same\n",
    "    direction as the destination.\n",
    "    - Weather: sunny, rainy, or snowy\n",
    "    - Temperature: 30F, 55F, or 80F\n",
    "    - Time: 10AM, 2PM, or 6PM\n",
    "    - Passenger: alone, partner, kid(s), or friend(s)\n",
    "\n",
    "\n",
    "3. Coupon attributes\n",
    "    - time before it expires: 2 hours or one day"
   ]
  },
  {
   "cell_type": "code",
   "execution_count": 303,
   "metadata": {},
   "outputs": [],
   "source": [
    "import matplotlib.pyplot as plt\n",
    "import seaborn as sns\n",
    "import pandas as pd\n",
    "import numpy as np"
   ]
  },
  {
   "cell_type": "markdown",
   "metadata": {},
   "source": [
    "### Problems\n",
    "\n",
    "Use the prompts below to get started with your data analysis.  \n",
    "\n",
    "1. Read in the `coupons.csv` file.\n",
    "\n",
    "\n"
   ]
  },
  {
   "cell_type": "code",
   "execution_count": 304,
   "metadata": {},
   "outputs": [],
   "source": [
    "data = pd.read_csv('data/coupons.csv')"
   ]
  },
  {
   "cell_type": "code",
   "execution_count": 305,
   "metadata": {},
   "outputs": [
    {
     "data": {
      "text/html": [
       "<div>\n",
       "<style scoped>\n",
       "    .dataframe tbody tr th:only-of-type {\n",
       "        vertical-align: middle;\n",
       "    }\n",
       "\n",
       "    .dataframe tbody tr th {\n",
       "        vertical-align: top;\n",
       "    }\n",
       "\n",
       "    .dataframe thead th {\n",
       "        text-align: right;\n",
       "    }\n",
       "</style>\n",
       "<table border=\"1\" class=\"dataframe\">\n",
       "  <thead>\n",
       "    <tr style=\"text-align: right;\">\n",
       "      <th></th>\n",
       "      <th>destination</th>\n",
       "      <th>passanger</th>\n",
       "      <th>weather</th>\n",
       "      <th>temperature</th>\n",
       "      <th>time</th>\n",
       "      <th>coupon</th>\n",
       "      <th>expiration</th>\n",
       "      <th>gender</th>\n",
       "      <th>age</th>\n",
       "      <th>maritalStatus</th>\n",
       "      <th>...</th>\n",
       "      <th>CoffeeHouse</th>\n",
       "      <th>CarryAway</th>\n",
       "      <th>RestaurantLessThan20</th>\n",
       "      <th>Restaurant20To50</th>\n",
       "      <th>toCoupon_GEQ5min</th>\n",
       "      <th>toCoupon_GEQ15min</th>\n",
       "      <th>toCoupon_GEQ25min</th>\n",
       "      <th>direction_same</th>\n",
       "      <th>direction_opp</th>\n",
       "      <th>Y</th>\n",
       "    </tr>\n",
       "  </thead>\n",
       "  <tbody>\n",
       "    <tr>\n",
       "      <th>0</th>\n",
       "      <td>No Urgent Place</td>\n",
       "      <td>Alone</td>\n",
       "      <td>Sunny</td>\n",
       "      <td>55</td>\n",
       "      <td>2PM</td>\n",
       "      <td>Restaurant(&lt;20)</td>\n",
       "      <td>1d</td>\n",
       "      <td>Female</td>\n",
       "      <td>21</td>\n",
       "      <td>Unmarried partner</td>\n",
       "      <td>...</td>\n",
       "      <td>never</td>\n",
       "      <td>NaN</td>\n",
       "      <td>4~8</td>\n",
       "      <td>1~3</td>\n",
       "      <td>1</td>\n",
       "      <td>0</td>\n",
       "      <td>0</td>\n",
       "      <td>0</td>\n",
       "      <td>1</td>\n",
       "      <td>1</td>\n",
       "    </tr>\n",
       "    <tr>\n",
       "      <th>1</th>\n",
       "      <td>No Urgent Place</td>\n",
       "      <td>Friend(s)</td>\n",
       "      <td>Sunny</td>\n",
       "      <td>80</td>\n",
       "      <td>10AM</td>\n",
       "      <td>Coffee House</td>\n",
       "      <td>2h</td>\n",
       "      <td>Female</td>\n",
       "      <td>21</td>\n",
       "      <td>Unmarried partner</td>\n",
       "      <td>...</td>\n",
       "      <td>never</td>\n",
       "      <td>NaN</td>\n",
       "      <td>4~8</td>\n",
       "      <td>1~3</td>\n",
       "      <td>1</td>\n",
       "      <td>0</td>\n",
       "      <td>0</td>\n",
       "      <td>0</td>\n",
       "      <td>1</td>\n",
       "      <td>0</td>\n",
       "    </tr>\n",
       "    <tr>\n",
       "      <th>2</th>\n",
       "      <td>No Urgent Place</td>\n",
       "      <td>Friend(s)</td>\n",
       "      <td>Sunny</td>\n",
       "      <td>80</td>\n",
       "      <td>10AM</td>\n",
       "      <td>Carry out &amp; Take away</td>\n",
       "      <td>2h</td>\n",
       "      <td>Female</td>\n",
       "      <td>21</td>\n",
       "      <td>Unmarried partner</td>\n",
       "      <td>...</td>\n",
       "      <td>never</td>\n",
       "      <td>NaN</td>\n",
       "      <td>4~8</td>\n",
       "      <td>1~3</td>\n",
       "      <td>1</td>\n",
       "      <td>1</td>\n",
       "      <td>0</td>\n",
       "      <td>0</td>\n",
       "      <td>1</td>\n",
       "      <td>1</td>\n",
       "    </tr>\n",
       "    <tr>\n",
       "      <th>3</th>\n",
       "      <td>No Urgent Place</td>\n",
       "      <td>Friend(s)</td>\n",
       "      <td>Sunny</td>\n",
       "      <td>80</td>\n",
       "      <td>2PM</td>\n",
       "      <td>Coffee House</td>\n",
       "      <td>2h</td>\n",
       "      <td>Female</td>\n",
       "      <td>21</td>\n",
       "      <td>Unmarried partner</td>\n",
       "      <td>...</td>\n",
       "      <td>never</td>\n",
       "      <td>NaN</td>\n",
       "      <td>4~8</td>\n",
       "      <td>1~3</td>\n",
       "      <td>1</td>\n",
       "      <td>1</td>\n",
       "      <td>0</td>\n",
       "      <td>0</td>\n",
       "      <td>1</td>\n",
       "      <td>0</td>\n",
       "    </tr>\n",
       "    <tr>\n",
       "      <th>4</th>\n",
       "      <td>No Urgent Place</td>\n",
       "      <td>Friend(s)</td>\n",
       "      <td>Sunny</td>\n",
       "      <td>80</td>\n",
       "      <td>2PM</td>\n",
       "      <td>Coffee House</td>\n",
       "      <td>1d</td>\n",
       "      <td>Female</td>\n",
       "      <td>21</td>\n",
       "      <td>Unmarried partner</td>\n",
       "      <td>...</td>\n",
       "      <td>never</td>\n",
       "      <td>NaN</td>\n",
       "      <td>4~8</td>\n",
       "      <td>1~3</td>\n",
       "      <td>1</td>\n",
       "      <td>1</td>\n",
       "      <td>0</td>\n",
       "      <td>0</td>\n",
       "      <td>1</td>\n",
       "      <td>0</td>\n",
       "    </tr>\n",
       "  </tbody>\n",
       "</table>\n",
       "<p>5 rows × 26 columns</p>\n",
       "</div>"
      ],
      "text/plain": [
       "       destination  passanger weather  temperature  time  \\\n",
       "0  No Urgent Place      Alone   Sunny           55   2PM   \n",
       "1  No Urgent Place  Friend(s)   Sunny           80  10AM   \n",
       "2  No Urgent Place  Friend(s)   Sunny           80  10AM   \n",
       "3  No Urgent Place  Friend(s)   Sunny           80   2PM   \n",
       "4  No Urgent Place  Friend(s)   Sunny           80   2PM   \n",
       "\n",
       "                  coupon expiration  gender age      maritalStatus  ...  \\\n",
       "0        Restaurant(<20)         1d  Female  21  Unmarried partner  ...   \n",
       "1           Coffee House         2h  Female  21  Unmarried partner  ...   \n",
       "2  Carry out & Take away         2h  Female  21  Unmarried partner  ...   \n",
       "3           Coffee House         2h  Female  21  Unmarried partner  ...   \n",
       "4           Coffee House         1d  Female  21  Unmarried partner  ...   \n",
       "\n",
       "   CoffeeHouse CarryAway RestaurantLessThan20 Restaurant20To50  \\\n",
       "0        never       NaN                  4~8              1~3   \n",
       "1        never       NaN                  4~8              1~3   \n",
       "2        never       NaN                  4~8              1~3   \n",
       "3        never       NaN                  4~8              1~3   \n",
       "4        never       NaN                  4~8              1~3   \n",
       "\n",
       "  toCoupon_GEQ5min toCoupon_GEQ15min toCoupon_GEQ25min direction_same  \\\n",
       "0                1                 0                 0              0   \n",
       "1                1                 0                 0              0   \n",
       "2                1                 1                 0              0   \n",
       "3                1                 1                 0              0   \n",
       "4                1                 1                 0              0   \n",
       "\n",
       "  direction_opp  Y  \n",
       "0             1  1  \n",
       "1             1  0  \n",
       "2             1  1  \n",
       "3             1  0  \n",
       "4             1  0  \n",
       "\n",
       "[5 rows x 26 columns]"
      ]
     },
     "execution_count": 305,
     "metadata": {},
     "output_type": "execute_result"
    }
   ],
   "source": [
    "data.head()"
   ]
  },
  {
   "cell_type": "code",
   "execution_count": 306,
   "metadata": {},
   "outputs": [
    {
     "name": "stdout",
     "output_type": "stream",
     "text": [
      "<class 'pandas.core.frame.DataFrame'>\n",
      "RangeIndex: 12684 entries, 0 to 12683\n",
      "Data columns (total 26 columns):\n",
      " #   Column                Non-Null Count  Dtype \n",
      "---  ------                --------------  ----- \n",
      " 0   destination           12684 non-null  object\n",
      " 1   passanger             12684 non-null  object\n",
      " 2   weather               12684 non-null  object\n",
      " 3   temperature           12684 non-null  int64 \n",
      " 4   time                  12684 non-null  object\n",
      " 5   coupon                12684 non-null  object\n",
      " 6   expiration            12684 non-null  object\n",
      " 7   gender                12684 non-null  object\n",
      " 8   age                   12684 non-null  object\n",
      " 9   maritalStatus         12684 non-null  object\n",
      " 10  has_children          12684 non-null  int64 \n",
      " 11  education             12684 non-null  object\n",
      " 12  occupation            12684 non-null  object\n",
      " 13  income                12684 non-null  object\n",
      " 14  car                   108 non-null    object\n",
      " 15  Bar                   12577 non-null  object\n",
      " 16  CoffeeHouse           12467 non-null  object\n",
      " 17  CarryAway             12533 non-null  object\n",
      " 18  RestaurantLessThan20  12554 non-null  object\n",
      " 19  Restaurant20To50      12495 non-null  object\n",
      " 20  toCoupon_GEQ5min      12684 non-null  int64 \n",
      " 21  toCoupon_GEQ15min     12684 non-null  int64 \n",
      " 22  toCoupon_GEQ25min     12684 non-null  int64 \n",
      " 23  direction_same        12684 non-null  int64 \n",
      " 24  direction_opp         12684 non-null  int64 \n",
      " 25  Y                     12684 non-null  int64 \n",
      "dtypes: int64(8), object(18)\n",
      "memory usage: 2.5+ MB\n"
     ]
    }
   ],
   "source": [
    "data.info()"
   ]
  },
  {
   "cell_type": "markdown",
   "metadata": {},
   "source": [
    "2. Investigate the dataset for missing or problematic data."
   ]
  },
  {
   "cell_type": "markdown",
   "metadata": {},
   "source": [
    "* checking columns with null values"
   ]
  },
  {
   "cell_type": "code",
   "execution_count": 307,
   "metadata": {},
   "outputs": [
    {
     "data": {
      "text/plain": [
       "destination                 0\n",
       "passanger                   0\n",
       "weather                     0\n",
       "temperature                 0\n",
       "time                        0\n",
       "coupon                      0\n",
       "expiration                  0\n",
       "gender                      0\n",
       "age                         0\n",
       "maritalStatus               0\n",
       "has_children                0\n",
       "education                   0\n",
       "occupation                  0\n",
       "income                      0\n",
       "car                     12576\n",
       "Bar                       107\n",
       "CoffeeHouse               217\n",
       "CarryAway                 151\n",
       "RestaurantLessThan20      130\n",
       "Restaurant20To50          189\n",
       "toCoupon_GEQ5min            0\n",
       "toCoupon_GEQ15min           0\n",
       "toCoupon_GEQ25min           0\n",
       "direction_same              0\n",
       "direction_opp               0\n",
       "Y                           0\n",
       "dtype: int64"
      ]
     },
     "execution_count": 307,
     "metadata": {},
     "output_type": "execute_result"
    }
   ],
   "source": [
    "data.isnull().sum()"
   ]
  },
  {
   "cell_type": "markdown",
   "metadata": {},
   "source": [
    "Let's review the field with the most null values"
   ]
  },
  {
   "cell_type": "code",
   "execution_count": 308,
   "metadata": {},
   "outputs": [
    {
     "name": "stdout",
     "output_type": "stream",
     "text": [
      "car\n",
      "Scooter and motorcycle                      22\n",
      "Mazda5                                      22\n",
      "do not drive                                22\n",
      "crossover                                   21\n",
      "Car that is too old to install Onstar :D    21\n",
      "Name: count, dtype: int64\n"
     ]
    }
   ],
   "source": [
    "print(data[\"car\"].value_counts())"
   ]
  },
  {
   "cell_type": "markdown",
   "metadata": {},
   "source": [
    "3. Decide what to do about your missing data -- drop, replace, other..."
   ]
  },
  {
   "cell_type": "code",
   "execution_count": 309,
   "metadata": {},
   "outputs": [],
   "source": [
    "# Since the complete data frame has 12684 rows and the field car has 12576 null rows, \n",
    "# There is no point in removing rows with null values for this field, instead I will fill them with other value\n",
    "\n",
    "data[\"car\"].fillna(\"Unknown\", inplace = True)"
   ]
  },
  {
   "cell_type": "markdown",
   "metadata": {},
   "source": [
    "I clean the rest of the dataframe of null values"
   ]
  },
  {
   "cell_type": "code",
   "execution_count": 310,
   "metadata": {},
   "outputs": [
    {
     "data": {
      "text/plain": [
       "destination             0\n",
       "passanger               0\n",
       "weather                 0\n",
       "temperature             0\n",
       "time                    0\n",
       "coupon                  0\n",
       "expiration              0\n",
       "gender                  0\n",
       "age                     0\n",
       "maritalStatus           0\n",
       "has_children            0\n",
       "education               0\n",
       "occupation              0\n",
       "income                  0\n",
       "car                     0\n",
       "Bar                     0\n",
       "CoffeeHouse             0\n",
       "CarryAway               0\n",
       "RestaurantLessThan20    0\n",
       "Restaurant20To50        0\n",
       "toCoupon_GEQ5min        0\n",
       "toCoupon_GEQ15min       0\n",
       "toCoupon_GEQ25min       0\n",
       "direction_same          0\n",
       "direction_opp           0\n",
       "Y                       0\n",
       "dtype: int64"
      ]
     },
     "execution_count": 310,
     "metadata": {},
     "output_type": "execute_result"
    }
   ],
   "source": [
    "data = data.dropna()\n",
    "\n",
    "clean_data = data.copy()\n",
    "# Now we have cleaned the data set of null values.\n",
    "clean_data.isnull().sum()"
   ]
  },
  {
   "cell_type": "markdown",
   "metadata": {},
   "source": [
    "#### We format the information in a more readable way"
   ]
  },
  {
   "cell_type": "markdown",
   "metadata": {},
   "source": [
    "I'll go through field by field to find which of them can be formatted in a more readable way."
   ]
  },
  {
   "cell_type": "code",
   "execution_count": 311,
   "metadata": {},
   "outputs": [
    {
     "data": {
      "text/plain": [
       "time\n",
       "18:00    3078\n",
       "07:00    3024\n",
       "10:00    2158\n",
       "14:00    1916\n",
       "22:00    1903\n",
       "Name: count, dtype: int64"
      ]
     },
     "execution_count": 311,
     "metadata": {},
     "output_type": "execute_result"
    }
   ],
   "source": [
    "clean_data[\"time\"] = clean_data[\"time\"].str.replace(\"6PM\", \"18:00\") \\\n",
    "            .str.replace(\"7AM\", \"07:00\") \\\n",
    "            .str.replace(\"10AM\", \"10:00\") \\\n",
    "            .str.replace(\"2PM\", \"14:00\") \\\n",
    "            .str.replace(\"10PM\", \"22:00\");\n",
    "clean_data[\"time\"].value_counts()"
   ]
  },
  {
   "cell_type": "markdown",
   "metadata": {},
   "source": [
    "For expiration and age, I will convert this field to time format, it is easier to handle for me."
   ]
  },
  {
   "cell_type": "code",
   "execution_count": 312,
   "metadata": {},
   "outputs": [],
   "source": [
    "clean_data[\"expiration\"] = clean_data[\"expiration\"].str.replace(\"1d\", \"24\").replace(\"2h\", \"2\") "
   ]
  },
  {
   "cell_type": "code",
   "execution_count": 313,
   "metadata": {},
   "outputs": [],
   "source": [
    "clean_data[\"age\"] = clean_data[\"age\"].str.replace(\"50plus\", \"50\").replace(\"below21\", \"20\")"
   ]
  },
  {
   "cell_type": "markdown",
   "metadata": {},
   "source": [
    "For the income I would like to manage a numerical type with the value of the highest salary in the range"
   ]
  },
  {
   "cell_type": "code",
   "execution_count": 314,
   "metadata": {},
   "outputs": [
    {
     "data": {
      "text/plain": [
       "income\n",
       "$25000 - $37499    1919\n",
       "$12500 - $24999    1728\n",
       "100000             1692\n",
       "$37500 - $49999    1689\n",
       "$50000 - $62499    1565\n",
       "12500              1014\n",
       "$62500 - $74999     840\n",
       "$87500 - $99999     818\n",
       "$75000 - $87499     814\n",
       "Name: count, dtype: int64"
      ]
     },
     "execution_count": 314,
     "metadata": {},
     "output_type": "execute_result"
    }
   ],
   "source": [
    "\n",
    "clean_data['income'] = clean_data['income'] \\\n",
    "                        .str.replace('$100000 or More', '100000') \\\n",
    "                        .str.replace('Less than $12500', '12500')\n",
    "\n",
    "\n",
    "clean_data[\"income\"].value_counts()"
   ]
  },
  {
   "cell_type": "markdown",
   "metadata": {},
   "source": [
    "I will rename some columns"
   ]
  },
  {
   "cell_type": "code",
   "execution_count": 315,
   "metadata": {},
   "outputs": [],
   "source": [
    "clean_data = clean_data.rename(\n",
    "    columns = {\n",
    "        \"age\" : \"Age\", \n",
    "        \"destination\": \"Destination\",\n",
    "        \"passanger\": \"Passanger\",\n",
    "        \"weather\" : \"Weather\",\n",
    "        \"temperature\":\"Temperature\",\n",
    "        \"time\":\"Time\",\n",
    "        \"coupon\": \"Coupon\",\n",
    "        \"expiration\": \"ExpirationTime\",\n",
    "        \"gender\": \"Gender\",\n",
    "        \"maritalStatus\":\"MaritalStatus\",\n",
    "        \"has_children\":\"HasChildren\",\n",
    "        \"education\":\"Education\",\n",
    "        \"occupation\": \"Occupation\",\n",
    "        \"income\": \"Income\",\n",
    "        \"has_children\":\"HasChildren\",\n",
    "        \"direction_same\": \"SameDirection\",\n",
    "        \"direction_opp\": \"OppositeDirection\",\n",
    "        \"Y\": \"Accepted\"\n",
    "      })"
   ]
  },
  {
   "cell_type": "markdown",
   "metadata": {},
   "source": [
    "I was able to identify several fields that had the same format, therefore I am going to create a method to not repeat the code"
   ]
  },
  {
   "cell_type": "code",
   "execution_count": 316,
   "metadata": {},
   "outputs": [],
   "source": [
    "def format_ranges(dataframe, field):\n",
    "    # Checking if the field exits in the dataframe\n",
    "    if field not in dataframe.columns:\n",
    "        raise ValueError(f\"The column '{field}' does not exist.\")\n",
    "    \n",
    "    # Rename the values in a clear way\n",
    "    dataframe[field] = dataframe[field].str.replace('less1', 'Less Than 1') \\\n",
    "                .str.replace('1~3', '1 To 3') \\\n",
    "                .str.replace('4~8', '4 To 8') \\\n",
    "                .str.replace('never', 'Never') \\\n",
    "                .str.replace('gt8', 'Greater Than 8')\n",
    "    return dataframe"
   ]
  },
  {
   "cell_type": "markdown",
   "metadata": {},
   "source": [
    "Using the method created above"
   ]
  },
  {
   "cell_type": "code",
   "execution_count": 317,
   "metadata": {},
   "outputs": [
    {
     "data": {
      "text/plain": [
       "Restaurant20To50\n",
       "Less Than 1       5859\n",
       "1 To 3            3202\n",
       "Never             2070\n",
       "4 To 8             684\n",
       "Greater Than 8     264\n",
       "Name: count, dtype: int64"
      ]
     },
     "execution_count": 317,
     "metadata": {},
     "output_type": "execute_result"
    }
   ],
   "source": [
    "clean_data = format_ranges(clean_data, \"Bar\")\n",
    "clean_data = format_ranges(clean_data, \"CoffeeHouse\")\n",
    "clean_data = format_ranges(clean_data, \"CarryAway\")\n",
    "clean_data = format_ranges(clean_data, \"RestaurantLessThan20\")\n",
    "clean_data = format_ranges(clean_data, \"Restaurant20To50\")\n",
    "\n",
    "\n",
    "clean_data[\"Restaurant20To50\"].value_counts()"
   ]
  },
  {
   "cell_type": "code",
   "execution_count": 318,
   "metadata": {},
   "outputs": [
    {
     "data": {
      "text/html": [
       "<div>\n",
       "<style scoped>\n",
       "    .dataframe tbody tr th:only-of-type {\n",
       "        vertical-align: middle;\n",
       "    }\n",
       "\n",
       "    .dataframe tbody tr th {\n",
       "        vertical-align: top;\n",
       "    }\n",
       "\n",
       "    .dataframe thead th {\n",
       "        text-align: right;\n",
       "    }\n",
       "</style>\n",
       "<table border=\"1\" class=\"dataframe\">\n",
       "  <thead>\n",
       "    <tr style=\"text-align: right;\">\n",
       "      <th></th>\n",
       "      <th>Destination</th>\n",
       "      <th>Passanger</th>\n",
       "      <th>Weather</th>\n",
       "      <th>Temperature</th>\n",
       "      <th>Time</th>\n",
       "      <th>Coupon</th>\n",
       "      <th>ExpirationTime</th>\n",
       "      <th>Gender</th>\n",
       "      <th>Age</th>\n",
       "      <th>MaritalStatus</th>\n",
       "      <th>...</th>\n",
       "      <th>CoffeeHouse</th>\n",
       "      <th>CarryAway</th>\n",
       "      <th>RestaurantLessThan20</th>\n",
       "      <th>Restaurant20To50</th>\n",
       "      <th>toCoupon_GEQ5min</th>\n",
       "      <th>toCoupon_GEQ15min</th>\n",
       "      <th>toCoupon_GEQ25min</th>\n",
       "      <th>SameDirection</th>\n",
       "      <th>OppositeDirection</th>\n",
       "      <th>Accepted</th>\n",
       "    </tr>\n",
       "  </thead>\n",
       "  <tbody>\n",
       "    <tr>\n",
       "      <th>22</th>\n",
       "      <td>No Urgent Place</td>\n",
       "      <td>Alone</td>\n",
       "      <td>Sunny</td>\n",
       "      <td>55</td>\n",
       "      <td>14:00</td>\n",
       "      <td>Restaurant(&lt;20)</td>\n",
       "      <td>24</td>\n",
       "      <td>Male</td>\n",
       "      <td>21</td>\n",
       "      <td>Single</td>\n",
       "      <td>...</td>\n",
       "      <td>Less Than 1</td>\n",
       "      <td>4 To 8</td>\n",
       "      <td>4 To 8</td>\n",
       "      <td>Less Than 1</td>\n",
       "      <td>1</td>\n",
       "      <td>0</td>\n",
       "      <td>0</td>\n",
       "      <td>0</td>\n",
       "      <td>1</td>\n",
       "      <td>1</td>\n",
       "    </tr>\n",
       "    <tr>\n",
       "      <th>23</th>\n",
       "      <td>No Urgent Place</td>\n",
       "      <td>Friend(s)</td>\n",
       "      <td>Sunny</td>\n",
       "      <td>80</td>\n",
       "      <td>10:00</td>\n",
       "      <td>Coffee House</td>\n",
       "      <td>2</td>\n",
       "      <td>Male</td>\n",
       "      <td>21</td>\n",
       "      <td>Single</td>\n",
       "      <td>...</td>\n",
       "      <td>Less Than 1</td>\n",
       "      <td>4 To 8</td>\n",
       "      <td>4 To 8</td>\n",
       "      <td>Less Than 1</td>\n",
       "      <td>1</td>\n",
       "      <td>0</td>\n",
       "      <td>0</td>\n",
       "      <td>0</td>\n",
       "      <td>1</td>\n",
       "      <td>0</td>\n",
       "    </tr>\n",
       "    <tr>\n",
       "      <th>24</th>\n",
       "      <td>No Urgent Place</td>\n",
       "      <td>Friend(s)</td>\n",
       "      <td>Sunny</td>\n",
       "      <td>80</td>\n",
       "      <td>10:00</td>\n",
       "      <td>Bar</td>\n",
       "      <td>24</td>\n",
       "      <td>Male</td>\n",
       "      <td>21</td>\n",
       "      <td>Single</td>\n",
       "      <td>...</td>\n",
       "      <td>Less Than 1</td>\n",
       "      <td>4 To 8</td>\n",
       "      <td>4 To 8</td>\n",
       "      <td>Less Than 1</td>\n",
       "      <td>1</td>\n",
       "      <td>0</td>\n",
       "      <td>0</td>\n",
       "      <td>0</td>\n",
       "      <td>1</td>\n",
       "      <td>1</td>\n",
       "    </tr>\n",
       "    <tr>\n",
       "      <th>25</th>\n",
       "      <td>No Urgent Place</td>\n",
       "      <td>Friend(s)</td>\n",
       "      <td>Sunny</td>\n",
       "      <td>80</td>\n",
       "      <td>10:00</td>\n",
       "      <td>Carry out &amp; Take away</td>\n",
       "      <td>2</td>\n",
       "      <td>Male</td>\n",
       "      <td>21</td>\n",
       "      <td>Single</td>\n",
       "      <td>...</td>\n",
       "      <td>Less Than 1</td>\n",
       "      <td>4 To 8</td>\n",
       "      <td>4 To 8</td>\n",
       "      <td>Less Than 1</td>\n",
       "      <td>1</td>\n",
       "      <td>1</td>\n",
       "      <td>0</td>\n",
       "      <td>0</td>\n",
       "      <td>1</td>\n",
       "      <td>0</td>\n",
       "    </tr>\n",
       "    <tr>\n",
       "      <th>26</th>\n",
       "      <td>No Urgent Place</td>\n",
       "      <td>Friend(s)</td>\n",
       "      <td>Sunny</td>\n",
       "      <td>80</td>\n",
       "      <td>14:00</td>\n",
       "      <td>Coffee House</td>\n",
       "      <td>24</td>\n",
       "      <td>Male</td>\n",
       "      <td>21</td>\n",
       "      <td>Single</td>\n",
       "      <td>...</td>\n",
       "      <td>Less Than 1</td>\n",
       "      <td>4 To 8</td>\n",
       "      <td>4 To 8</td>\n",
       "      <td>Less Than 1</td>\n",
       "      <td>1</td>\n",
       "      <td>0</td>\n",
       "      <td>0</td>\n",
       "      <td>0</td>\n",
       "      <td>1</td>\n",
       "      <td>0</td>\n",
       "    </tr>\n",
       "  </tbody>\n",
       "</table>\n",
       "<p>5 rows × 26 columns</p>\n",
       "</div>"
      ],
      "text/plain": [
       "        Destination  Passanger Weather  Temperature   Time  \\\n",
       "22  No Urgent Place      Alone   Sunny           55  14:00   \n",
       "23  No Urgent Place  Friend(s)   Sunny           80  10:00   \n",
       "24  No Urgent Place  Friend(s)   Sunny           80  10:00   \n",
       "25  No Urgent Place  Friend(s)   Sunny           80  10:00   \n",
       "26  No Urgent Place  Friend(s)   Sunny           80  14:00   \n",
       "\n",
       "                   Coupon ExpirationTime Gender Age MaritalStatus  ...  \\\n",
       "22        Restaurant(<20)             24   Male  21        Single  ...   \n",
       "23           Coffee House              2   Male  21        Single  ...   \n",
       "24                    Bar             24   Male  21        Single  ...   \n",
       "25  Carry out & Take away              2   Male  21        Single  ...   \n",
       "26           Coffee House             24   Male  21        Single  ...   \n",
       "\n",
       "    CoffeeHouse CarryAway RestaurantLessThan20 Restaurant20To50  \\\n",
       "22  Less Than 1    4 To 8               4 To 8      Less Than 1   \n",
       "23  Less Than 1    4 To 8               4 To 8      Less Than 1   \n",
       "24  Less Than 1    4 To 8               4 To 8      Less Than 1   \n",
       "25  Less Than 1    4 To 8               4 To 8      Less Than 1   \n",
       "26  Less Than 1    4 To 8               4 To 8      Less Than 1   \n",
       "\n",
       "   toCoupon_GEQ5min toCoupon_GEQ15min toCoupon_GEQ25min SameDirection  \\\n",
       "22                1                 0                 0             0   \n",
       "23                1                 0                 0             0   \n",
       "24                1                 0                 0             0   \n",
       "25                1                 1                 0             0   \n",
       "26                1                 0                 0             0   \n",
       "\n",
       "   OppositeDirection Accepted  \n",
       "22                 1        1  \n",
       "23                 1        0  \n",
       "24                 1        1  \n",
       "25                 1        0  \n",
       "26                 1        0  \n",
       "\n",
       "[5 rows x 26 columns]"
      ]
     },
     "execution_count": 318,
     "metadata": {},
     "output_type": "execute_result"
    }
   ],
   "source": [
    "clean_data.head(5)"
   ]
  },
  {
   "cell_type": "markdown",
   "metadata": {},
   "source": [
    "4. What proportion of the total observations chose to accept the coupon? \n",
    "\n"
   ]
  },
  {
   "cell_type": "code",
   "execution_count": 319,
   "metadata": {},
   "outputs": [
    {
     "name": "stdout",
     "output_type": "stream",
     "text": [
      "Total percentage of coupons accepted :  56.93%\n"
     ]
    },
    {
     "data": {
      "image/png": "[encoded data removed]",
      "text/plain": [
       "<Figure size 640x480 with 1 Axes>"
      ]
     },
     "metadata": {},
     "output_type": "display_data"
    }
   ],
   "source": [
    "total_rows = clean_data.shape[0]\n",
    "\n",
    "values = clean_data[\"Accepted\"].value_counts().reset_index()\n",
    "# We create a column with the percentage of accepted and rejected coupons\n",
    "values[\"percentage\"] = (values[\"count\"] / total_rows) * 100\n",
    "\n",
    "total_accepted = values[values[\"Accepted\"] == 1][\"percentage\"]\n",
    "print(\"Total percentage of coupons accepted : \" + \" \" + str(round(float(total_accepted[0]), 2)) + \"%\")\n",
    "\n",
    "sns.barplot(x='Accepted', y='percentage', data=values)\n",
    "plt.xlabel('Rejected/Accepted Coupons')\n",
    "plt.ylabel('Percentage')\n",
    "plt.title('Coupons')\n",
    "\n",
    "plt.show()\n"
   ]
  },
  {
   "cell_type": "markdown",
   "metadata": {},
   "source": [
    "5. Use a bar plot to visualize the `coupon` column."
   ]
  },
  {
   "cell_type": "code",
   "execution_count": 320,
   "metadata": {},
   "outputs": [
    {
     "data": {
      "image/png": "[encoded data removed]",
      "text/plain": [
       "<Figure size 640x480 with 1 Axes>"
      ]
     },
     "metadata": {},
     "output_type": "display_data"
    }
   ],
   "source": [
    "ans5 = clean_data[\"Coupon\"].value_counts().reset_index()\n",
    "sns.barplot(x='Coupon', y=\"count\", data=ans5)\n",
    "plt.xticks(rotation=45)\n",
    "plt.xlabel('Type of Coupon')\n",
    "plt.ylabel('Count')\n",
    "plt.title('Coupons By Type')\n",
    "\n",
    "plt.show()\n"
   ]
  },
  {
   "cell_type": "markdown",
   "metadata": {},
   "source": [
    "6. Use a histogram to visualize the temperature column."
   ]
  },
  {
   "cell_type": "code",
   "execution_count": 321,
   "metadata": {},
   "outputs": [
    {
     "name": "stderr",
     "output_type": "stream",
     "text": [
      "/Users/oscardominguez/anaconda3/lib/python3.11/site-packages/seaborn/axisgrid.py:118: UserWarning: The figure layout has changed to tight\n",
      "  self._figure.tight_layout(*args, **kwargs)\n"
     ]
    },
    {
     "data": {
      "text/plain": [
       "Text(0.5, 1.0, 'Temperature Histogram')"
      ]
     },
     "execution_count": 321,
     "metadata": {},
     "output_type": "execute_result"
    },
    {
     "data": {
      "text/plain": [
       "<Figure size 700x600 with 0 Axes>"
      ]
     },
     "metadata": {},
     "output_type": "display_data"
    },
    {
     "data": {
      "image/png": "[encoded data removed]",
      "text/plain": [
       "<Figure size 500x500 with 1 Axes>"
      ]
     },
     "metadata": {},
     "output_type": "display_data"
    }
   ],
   "source": [
    "plt.figure(figsize=(7, 6))\n",
    "sns.displot(data=clean_data, x=\"Temperature\", bins=10)\n",
    "plt.xlabel('Temperature')\n",
    "plt.title('Temperature Histogram')"
   ]
  },
  {
   "cell_type": "markdown",
   "metadata": {},
   "source": [
    "**Investigating the Bar Coupons**\n",
    "\n",
    "Now, we will lead you through an exploration of just the bar related coupons.  \n",
    "\n",
    "1. Create a new `DataFrame` that contains just the bar coupons.\n"
   ]
  },
  {
   "cell_type": "code",
   "execution_count": 322,
   "metadata": {},
   "outputs": [
    {
     "data": {
      "text/html": [
       "<div>\n",
       "<style scoped>\n",
       "    .dataframe tbody tr th:only-of-type {\n",
       "        vertical-align: middle;\n",
       "    }\n",
       "\n",
       "    .dataframe tbody tr th {\n",
       "        vertical-align: top;\n",
       "    }\n",
       "\n",
       "    .dataframe thead th {\n",
       "        text-align: right;\n",
       "    }\n",
       "</style>\n",
       "<table border=\"1\" class=\"dataframe\">\n",
       "  <thead>\n",
       "    <tr style=\"text-align: right;\">\n",
       "      <th></th>\n",
       "      <th>Destination</th>\n",
       "      <th>Passanger</th>\n",
       "      <th>Weather</th>\n",
       "      <th>Temperature</th>\n",
       "      <th>Time</th>\n",
       "      <th>Coupon</th>\n",
       "      <th>ExpirationTime</th>\n",
       "      <th>Gender</th>\n",
       "      <th>Age</th>\n",
       "      <th>MaritalStatus</th>\n",
       "      <th>...</th>\n",
       "      <th>CoffeeHouse</th>\n",
       "      <th>CarryAway</th>\n",
       "      <th>RestaurantLessThan20</th>\n",
       "      <th>Restaurant20To50</th>\n",
       "      <th>toCoupon_GEQ5min</th>\n",
       "      <th>toCoupon_GEQ15min</th>\n",
       "      <th>toCoupon_GEQ25min</th>\n",
       "      <th>SameDirection</th>\n",
       "      <th>OppositeDirection</th>\n",
       "      <th>Accepted</th>\n",
       "    </tr>\n",
       "  </thead>\n",
       "  <tbody>\n",
       "    <tr>\n",
       "      <th>24</th>\n",
       "      <td>No Urgent Place</td>\n",
       "      <td>Friend(s)</td>\n",
       "      <td>Sunny</td>\n",
       "      <td>80</td>\n",
       "      <td>10:00</td>\n",
       "      <td>Bar</td>\n",
       "      <td>24</td>\n",
       "      <td>Male</td>\n",
       "      <td>21</td>\n",
       "      <td>Single</td>\n",
       "      <td>...</td>\n",
       "      <td>Less Than 1</td>\n",
       "      <td>4 To 8</td>\n",
       "      <td>4 To 8</td>\n",
       "      <td>Less Than 1</td>\n",
       "      <td>1</td>\n",
       "      <td>0</td>\n",
       "      <td>0</td>\n",
       "      <td>0</td>\n",
       "      <td>1</td>\n",
       "      <td>1</td>\n",
       "    </tr>\n",
       "    <tr>\n",
       "      <th>35</th>\n",
       "      <td>Home</td>\n",
       "      <td>Alone</td>\n",
       "      <td>Sunny</td>\n",
       "      <td>55</td>\n",
       "      <td>18:00</td>\n",
       "      <td>Bar</td>\n",
       "      <td>24</td>\n",
       "      <td>Male</td>\n",
       "      <td>21</td>\n",
       "      <td>Single</td>\n",
       "      <td>...</td>\n",
       "      <td>Less Than 1</td>\n",
       "      <td>4 To 8</td>\n",
       "      <td>4 To 8</td>\n",
       "      <td>Less Than 1</td>\n",
       "      <td>1</td>\n",
       "      <td>0</td>\n",
       "      <td>0</td>\n",
       "      <td>1</td>\n",
       "      <td>0</td>\n",
       "      <td>1</td>\n",
       "    </tr>\n",
       "  </tbody>\n",
       "</table>\n",
       "<p>2 rows × 26 columns</p>\n",
       "</div>"
      ],
      "text/plain": [
       "        Destination  Passanger Weather  Temperature   Time Coupon  \\\n",
       "24  No Urgent Place  Friend(s)   Sunny           80  10:00    Bar   \n",
       "35             Home      Alone   Sunny           55  18:00    Bar   \n",
       "\n",
       "   ExpirationTime Gender Age MaritalStatus  ...  CoffeeHouse CarryAway  \\\n",
       "24             24   Male  21        Single  ...  Less Than 1    4 To 8   \n",
       "35             24   Male  21        Single  ...  Less Than 1    4 To 8   \n",
       "\n",
       "   RestaurantLessThan20 Restaurant20To50 toCoupon_GEQ5min toCoupon_GEQ15min  \\\n",
       "24               4 To 8      Less Than 1                1                 0   \n",
       "35               4 To 8      Less Than 1                1                 0   \n",
       "\n",
       "   toCoupon_GEQ25min SameDirection OppositeDirection Accepted  \n",
       "24                 0             0                 1        1  \n",
       "35                 0             1                 0        1  \n",
       "\n",
       "[2 rows x 26 columns]"
      ]
     },
     "execution_count": 322,
     "metadata": {},
     "output_type": "execute_result"
    }
   ],
   "source": [
    "new_dataframe = clean_data[clean_data[\"Coupon\"] == \"Bar\"]\n",
    "new_dataframe.head(2)"
   ]
  },
  {
   "cell_type": "markdown",
   "metadata": {},
   "source": [
    "2. What proportion of bar coupons were accepted?\n"
   ]
  },
  {
   "cell_type": "code",
   "execution_count": 323,
   "metadata": {},
   "outputs": [
    {
     "name": "stdout",
     "output_type": "stream",
     "text": [
      "Total  percentage of bar coupons accepted :  41.19%\n"
     ]
    }
   ],
   "source": [
    "# total rows with the coupon bar\n",
    "total_rows_bar = new_dataframe.shape[0]\n",
    "\n",
    "# We create a column with the percentage of accepted and rejected coupons\n",
    "accepted_coupons = new_dataframe[\"Accepted\"].value_counts().reset_index()\n",
    "accepted_coupons[\"percentage\"] = (accepted_coupons[\"count\"] / total_rows_bar) * 100\n",
    "\n",
    "# total accepted coupons\n",
    "total_accepted = accepted_coupons[accepted_coupons[\"Accepted\"] == 1][\"percentage\"][1]\n",
    "\n",
    "print(\"Total  percentage of bar coupons accepted : \" + \" \" + str(round(float(total_accepted), 2)) + \"%\")"
   ]
  },
  {
   "cell_type": "markdown",
   "metadata": {},
   "source": [
    "As we can see less than half of the Bar coupons were accepted"
   ]
  },
  {
   "cell_type": "markdown",
   "metadata": {},
   "source": [
    "3. Compare the acceptance rate between those who went to a bar 3 or fewer times a month to those who went more.\n"
   ]
  },
  {
   "cell_type": "code",
   "execution_count": 324,
   "metadata": {},
   "outputs": [],
   "source": [
    "# get rows less than or equal to 3 times a month\n",
    "less_or_3 = new_dataframe[new_dataframe[\"Bar\"].isin([\"Never\",\"Less Than 1\", \"1 To 3\"])]\n",
    "\n",
    "# get rows more than 3 times a month\n",
    "over_3 = new_dataframe[new_dataframe[\"Bar\"].isin([\"4 To 8\",\"Greater Than 8\"])]\n",
    "\n",
    "#totals\n",
    "total_less_or_3 = less_or_3.shape[0]\n",
    "total_over_3 = over_3.shape[0]\n",
    "\n",
    "# Acceptance rates\n",
    "acceptance_less_than_3 =(less_or_3[less_or_3[\"Accepted\"] == 1].shape[0] / total_less_or_3) * 100\n",
    "acceptance_over_3 = (over_3[over_3[\"Accepted\"] == 1].shape[0] / total_over_3) * 100\n"
   ]
  },
  {
   "cell_type": "markdown",
   "metadata": {},
   "source": [
    "Total acceptance rate of people who went to a bar 3 or fewer times"
   ]
  },
  {
   "cell_type": "code",
   "execution_count": 325,
   "metadata": {},
   "outputs": [
    {
     "name": "stdout",
     "output_type": "stream",
     "text": [
      "37.27%\n"
     ]
    }
   ],
   "source": [
    "print(str(round(float(acceptance_less_than_3), 2)) + \"%\")"
   ]
  },
  {
   "cell_type": "markdown",
   "metadata": {},
   "source": [
    "Total acceptance rate of people who went to a bar 4 or more times"
   ]
  },
  {
   "cell_type": "code",
   "execution_count": 326,
   "metadata": {},
   "outputs": [
    {
     "name": "stdout",
     "output_type": "stream",
     "text": [
      "76.17%\n"
     ]
    }
   ],
   "source": [
    "print(str(round(float(acceptance_over_3), 2)) + \"%\")"
   ]
  },
  {
   "cell_type": "markdown",
   "metadata": {},
   "source": [
    "4. Compare the acceptance rate between drivers who go to a bar more than once a month and are over the age of 25 to the all others.  Is there a difference?\n"
   ]
  },
  {
   "cell_type": "code",
   "execution_count": 373,
   "metadata": {},
   "outputs": [
    {
     "name": "stdout",
     "output_type": "stream",
     "text": [
      "Acceptance rate Drivers who went to a bar more than once a month and are over 25:  68.98%\n",
      "Acceptance rate Other Drivers:  33.77%\n"
     ]
    }
   ],
   "source": [
    "\n",
    "# Filters to apply in dataframe\n",
    "filter_data = ((new_dataframe['Bar'].isin([\"1 To 3\", \"4 To 8\",\"Greater Than 8\"])) &\n",
    "                                 (new_dataframe['Age'] != '20') & \n",
    "                                 (new_dataframe['Age'] != '21'))\n",
    "\n",
    "# Drivers who went to a bar more than once a month and are over 25\n",
    "drivers_over_25 = new_dataframe[filter_data]\n",
    "\n",
    "# The other drivers\n",
    "other_drivers = new_dataframe[~filter_data]\n",
    "\n",
    "# Rates\n",
    "rate_over_25 = drivers_over_25[\"Accepted\"].mean() * 100\n",
    "rate_other_drivers = other_drivers[\"Accepted\"].mean() * 100\n",
    "\n",
    "print(\"Acceptance rate Drivers who went to a bar more than once a month and are over 25: \"+\" \"+str(round(float(rate_over_25), 2)) + \"%\")\n",
    "print(\"Acceptance rate Other Drivers: \"+\" \"+str(round(float(rate_other_drivers), 2)) + \"%\")\n"
   ]
  },
  {
   "cell_type": "markdown",
   "metadata": {},
   "source": [
    "We can see that the acceptance rate of drivers who went to a bar more than once a month is double that of other drivers."
   ]
  },
  {
   "cell_type": "markdown",
   "metadata": {},
   "source": [
    "5. Use the same process to compare the acceptance rate between drivers who go to bars more than once a month and had passengers that were not a kid and had occupations other than farming, fishing, or forestry. \n"
   ]
  },
  {
   "cell_type": "code",
   "execution_count": 374,
   "metadata": {},
   "outputs": [],
   "source": [
    "\n",
    "# Filters to apply in dataframe\n",
    "filter_data = ((new_dataframe['Bar'].isin([\"1 To 3\", \"4 To 8\",\"Greater Than 8\"])) & \n",
    "                        (new_dataframe['Passanger'] != 'Kid(s)') & \n",
    "                        (~new_dataframe['Occupation'].isin(['Farming Fishing & Forestry'])))\n",
    "# values filtered\n",
    "ans5 = new_dataframe[filter_data]\n",
    "\n",
    "# the rest of the values that were no filter\n",
    "other_drivers = new_dataframe[~filter_data]\n",
    "                         \n",
    "# Rates\n",
    "rate_passengers_no_kids = ans5[\"Accepted\"].mean() * 100\n",
    "rate_other_drivers = other_drivers[\"Accepted\"].mean() * 100"
   ]
  },
  {
   "cell_type": "markdown",
   "metadata": {},
   "source": [
    "Acceptance rate for drivers who went to a bar and had passengers that were not a kid and had occupations other than farming, fishing, or forestry."
   ]
  },
  {
   "cell_type": "code",
   "execution_count": 375,
   "metadata": {},
   "outputs": [
    {
     "name": "stdout",
     "output_type": "stream",
     "text": [
      "70.94%\n"
     ]
    }
   ],
   "source": [
    "print(str(round(float(rate_passengers_no_kids), 2)) + \"%\")\n"
   ]
  },
  {
   "cell_type": "markdown",
   "metadata": {},
   "source": [
    "Acceptance rate Other Drivers:"
   ]
  },
  {
   "cell_type": "code",
   "execution_count": 376,
   "metadata": {},
   "outputs": [
    {
     "name": "stdout",
     "output_type": "stream",
     "text": [
      "29.79%\n"
     ]
    }
   ],
   "source": [
    "print(str(round(float(rate_other_drivers), 2)) + \"%\")\n"
   ]
  },
  {
   "cell_type": "markdown",
   "metadata": {},
   "source": [
    "6. Compare the acceptance rates between those drivers who:\n",
    "\n",
    "- go to bars more than once a month, had passengers that were not a kid, and were not widowed *OR*\n",
    "- go to bars more than once a month and are under the age of 30 *OR*\n",
    "- go to cheap restaurants more than 4 times a month and income is less than 50K. \n",
    "\n"
   ]
  },
  {
   "cell_type": "code",
   "execution_count": 380,
   "metadata": {},
   "outputs": [],
   "source": [
    "# Drivers who go to bars more than once a month, had passengers that were not a kid, and were not widowed\n",
    "data_filter_1 = new_dataframe[(new_dataframe['Bar'].isin([\"1 To 3\", \"4 To 8\",\"Greater Than 8\"])) & \n",
    "                        (new_dataframe['Passanger'] != 'Kid(s)') & \n",
    "                        (~new_dataframe['MaritalStatus'].isin(['Widowed']))]"
   ]
  },
  {
   "cell_type": "code",
   "execution_count": 390,
   "metadata": {},
   "outputs": [
    {
     "data": {
      "text/plain": [
       "Age\n",
       "21    159\n",
       "26    159\n",
       "20     10\n",
       "Name: count, dtype: int64"
      ]
     },
     "execution_count": 390,
     "metadata": {},
     "output_type": "execute_result"
    }
   ],
   "source": [
    "# Drivers who go to bars more than once a month and are under the age of 30\n",
    "data_filter_2 = new_dataframe[(new_dataframe['Bar'].isin([\"1 To 3\", \"4 To 8\",\"Greater Than 8\"])) & \n",
    "                        (new_dataframe['Age'] < \"30\" )]"
   ]
  },
  {
   "cell_type": "code",
   "execution_count": 394,
   "metadata": {},
   "outputs": [
    {
     "data": {
      "text/plain": [
       "Income\n",
       "$12500 - $24999    96\n",
       "$37500 - $49999    90\n",
       "$25000 - $37499    74\n",
       "12500              73\n",
       "Name: count, dtype: int64"
      ]
     },
     "execution_count": 394,
     "metadata": {},
     "output_type": "execute_result"
    }
   ],
   "source": [
    "# Drivers who go to cheap restaurants more than 4 times a month and income is less than 50K.\n",
    "data_filter_3 = new_dataframe[(new_dataframe['RestaurantLessThan20'].isin([\"4 To 8\", \"Greater Than 8\"])) & \n",
    "                        (new_dataframe['Income'].isin([\"12500\",\"$12500 - $24999\",\"$25000 - $37499\", \"$37500 - $49999\"]))]\n"
   ]
  },
  {
   "cell_type": "markdown",
   "metadata": {},
   "source": []
  },
  {
   "cell_type": "code",
   "execution_count": 401,
   "metadata": {},
   "outputs": [
    {
     "name": "stdout",
     "output_type": "stream",
     "text": [
      "70.94%\n",
      "71.95%\n",
      "45.65%\n"
     ]
    }
   ],
   "source": [
    "rate_filter_1 = data_filter_1[\"Accepted\"].mean() * 100\n",
    "rate_filter_2 = data_filter_2[\"Accepted\"].mean() * 100\n",
    "rate_filter_3 = data_filter_3[\"Accepted\"].mean() * 100\n",
    "\n",
    "print(str(round(float(rate_filter_1), 2)) + \"%\")\n",
    "print(str(round(float(rate_filter_2), 2)) + \"%\")\n",
    "print(str(round(float(rate_filter_3), 2)) + \"%\")\n"
   ]
  },
  {
   "cell_type": "markdown",
   "metadata": {},
   "source": [
    "7.  Based on these observations, what do you hypothesize about drivers who accepted the bar coupons?"
   ]
  },
  {
   "cell_type": "markdown",
   "metadata": {},
   "source": [
    "#### Observations\n",
    "\n",
    "According to the study of the Bar coupon we can reach the following conclusions\n",
    "\n",
    "* Less than half of the Bar coupons were accepted\n",
    "* people who went to a bar 4 or more times has 38.9% more likely to accept the coupon than people who went 3 times or less\n",
    "* The acceptance rate of drivers who went to a bar more than once a month is double that of other drivers.\n",
    "* People who Total went to a bar 4 or more times have a high rate of accetance with 76.17% and it is a trend in the following conclusions\n",
    "* We can also conclude that Drivers who go to bars more than once a month, had passengers who were not children and were not widowers have a high percentage of acceptance with 70.94%, almost equaling the acceptance of Drivers who go to bars more than once a month and under 30 years old. old, unlike drivers who go to cheap restaurants more than 4 times a month and their income is less than 50K who have less than half acceptance with 45.65%. "
   ]
  },
  {
   "cell_type": "markdown",
   "metadata": {},
   "source": [
    "### Independent Investigation\n",
    "\n",
    "Using the bar coupon example as motivation, you are to explore one of the other coupon groups and try to determine the characteristics of passengers who accept the coupons.  "
   ]
  },
  {
   "cell_type": "code",
   "execution_count": 405,
   "metadata": {},
   "outputs": [
    {
     "data": {
      "text/plain": [
       "Occupation\n",
       "Unemployed                                   1814\n",
       "Student                                      1497\n",
       "Computer & Mathematical                      1368\n",
       "Sales & Related                              1072\n",
       "Education&Training&Library                    855\n",
       "Management                                    772\n",
       "Office & Administrative Support               617\n",
       "Arts Design Entertainment Sports & Media      564\n",
       "Business & Financial                          516\n",
       "Retired                                       473\n",
       "Food Preparation & Serving Related            276\n",
       "Healthcare Support                            242\n",
       "Healthcare Practitioners & Technical          222\n",
       "Legal                                         219\n",
       "Community & Social Services                   219\n",
       "Transportation & Material Moving              218\n",
       "Protective Service                            175\n",
       "Architecture & Engineering                    175\n",
       "Life Physical Social Science                  170\n",
       "Construction & Extraction                     154\n",
       "Personal Care & Service                       153\n",
       "Installation Maintenance & Repair             133\n",
       "Production Occupations                         88\n",
       "Building & Grounds Cleaning & Maintenance      44\n",
       "Farming Fishing & Forestry                     43\n",
       "Name: count, dtype: int64"
      ]
     },
     "execution_count": 405,
     "metadata": {},
     "output_type": "execute_result"
    }
   ],
   "source": [
    "# I will make a investigation about rate of acceptance in the coupons examining all the occupations\n",
    "data1 = clean_data.copy()\n",
    "# first lets review the Occupations that we have \n",
    "data1[\"Occupation\"].value_counts()"
   ]
  },
  {
   "cell_type": "markdown",
   "metadata": {},
   "source": [
    "1. Now I will investigate the acceptance rate by occupation and sort the information in descending order to find out which Occupation has the highest acceptance rate."
   ]
  },
  {
   "cell_type": "code",
   "execution_count": 415,
   "metadata": {},
   "outputs": [],
   "source": [
    "# Acceptance rate by Occupation\n",
    "occupations_aceptance = data1.groupby([\"Occupation\"])[\"Accepted\"].mean() \n",
    "occupations_aceptance = occupations_aceptance.reset_index()\n",
    "occupations_aceptance[\"Accepted\"] = occupations_aceptance[\"Accepted\"] * 100"
   ]
  },
  {
   "cell_type": "markdown",
   "metadata": {},
   "source": [
    "I will sort in descending order"
   ]
  },
  {
   "cell_type": "code",
   "execution_count": 418,
   "metadata": {},
   "outputs": [],
   "source": [
    "occupations_aceptance = occupations_aceptance.sort_values(by=\"Accepted\", ascending=False)"
   ]
  },
  {
   "cell_type": "markdown",
   "metadata": {},
   "source": [
    "Let's look at it in a more graphic way."
   ]
  },
  {
   "cell_type": "code",
   "execution_count": 557,
   "metadata": {},
   "outputs": [
    {
     "data": {
      "image/png": "[encoded data removed]",
      "text/plain": [
       "<Figure size 800x500 with 1 Axes>"
      ]
     },
     "metadata": {},
     "output_type": "display_data"
    }
   ],
   "source": [
    "# Plots the accepted coupons for Occupation\n",
    "plt.figure(figsize=(8, 5))\n",
    "sns.barplot(x='Occupation', y='Accepted', data=occupations_aceptance)\n",
    "plt.xlabel('Occupation')\n",
    "plt.ylabel('Acceptance rate')\n",
    "plt.title('Acceptance rate of Coupons by Occupation')\n",
    "plt.xticks(rotation=90)\n",
    "plt.savefig('images/plot1_2.png')"
   ]
  },
  {
   "cell_type": "markdown",
   "metadata": {},
   "source": [
    "#### Conclusion 1\n",
    "The occupation with the highest acceptance rate is Healthcare Practitioners & Technical and the one with the lowest acceptance rate is \"Retired\""
   ]
  },
  {
   "cell_type": "markdown",
   "metadata": {},
   "source": [
    "Now let's review unemployed drivers, which is the occupation with most data in this data frame."
   ]
  },
  {
   "cell_type": "code",
   "execution_count": 459,
   "metadata": {},
   "outputs": [],
   "source": [
    "unemployed_data = data1[data1['Occupation'] == \"Unemployed\"]"
   ]
  },
  {
   "cell_type": "code",
   "execution_count": 433,
   "metadata": {},
   "outputs": [
    {
     "data": {
      "text/plain": [
       "Coupon\n",
       "Coffee House             551\n",
       "Restaurant(<20)          397\n",
       "Carry out & Take away    347\n",
       "Bar                      292\n",
       "Restaurant(20-50)        227\n",
       "Name: count, dtype: int64"
      ]
     },
     "execution_count": 433,
     "metadata": {},
     "output_type": "execute_result"
    }
   ],
   "source": [
    "unemployed_data[\"Coupon\"].value_counts()"
   ]
  },
  {
   "cell_type": "markdown",
   "metadata": {},
   "source": [
    "Now that we have filtered the data frame with just the unemployed drivers, let's make some analysis for example, which is the coupon that unemployed people accept the most"
   ]
  },
  {
   "cell_type": "code",
   "execution_count": 434,
   "metadata": {},
   "outputs": [
    {
     "data": {
      "text/html": [
       "<div>\n",
       "<style scoped>\n",
       "    .dataframe tbody tr th:only-of-type {\n",
       "        vertical-align: middle;\n",
       "    }\n",
       "\n",
       "    .dataframe tbody tr th {\n",
       "        vertical-align: top;\n",
       "    }\n",
       "\n",
       "    .dataframe thead th {\n",
       "        text-align: right;\n",
       "    }\n",
       "</style>\n",
       "<table border=\"1\" class=\"dataframe\">\n",
       "  <thead>\n",
       "    <tr style=\"text-align: right;\">\n",
       "      <th></th>\n",
       "      <th>Coupon</th>\n",
       "      <th>count</th>\n",
       "    </tr>\n",
       "  </thead>\n",
       "  <tbody>\n",
       "    <tr>\n",
       "      <th>0</th>\n",
       "      <td>Coffee House</td>\n",
       "      <td>296</td>\n",
       "    </tr>\n",
       "    <tr>\n",
       "      <th>1</th>\n",
       "      <td>Restaurant(&lt;20)</td>\n",
       "      <td>266</td>\n",
       "    </tr>\n",
       "    <tr>\n",
       "      <th>2</th>\n",
       "      <td>Carry out &amp; Take away</td>\n",
       "      <td>261</td>\n",
       "    </tr>\n",
       "    <tr>\n",
       "      <th>3</th>\n",
       "      <td>Bar</td>\n",
       "      <td>87</td>\n",
       "    </tr>\n",
       "    <tr>\n",
       "      <th>4</th>\n",
       "      <td>Restaurant(20-50)</td>\n",
       "      <td>80</td>\n",
       "    </tr>\n",
       "  </tbody>\n",
       "</table>\n",
       "</div>"
      ],
      "text/plain": [
       "                  Coupon  count\n",
       "0           Coffee House    296\n",
       "1        Restaurant(<20)    266\n",
       "2  Carry out & Take away    261\n",
       "3                    Bar     87\n",
       "4      Restaurant(20-50)     80"
      ]
     },
     "execution_count": 434,
     "metadata": {},
     "output_type": "execute_result"
    }
   ],
   "source": [
    "# Filter by the accepted coupons\n",
    "unemployed_accepted = unemployed_data[unemployed_data['Accepted'] == 1]\n",
    "ans2 = unemployed_accepted['Coupon'].value_counts().reset_index()\n",
    "# Order data in a descending way\n",
    "ans2 = ans2.sort_values(by = 'count', ascending = False)\n",
    "ans2"
   ]
  },
  {
   "cell_type": "code",
   "execution_count": 547,
   "metadata": {},
   "outputs": [
    {
     "data": {
      "image/png": "[encoded data removed]",
      "text/plain": [
       "<Figure size 640x480 with 1 Axes>"
      ]
     },
     "metadata": {},
     "output_type": "display_data"
    }
   ],
   "source": [
    "# barplot for Occupation\n",
    "sns.barplot(data = ans2, x = 'Coupon', y = 'count')\n",
    "plt.title('Accepted Coupon Distribution By Type')\n",
    "plt.xticks(rotation=45)\n",
    "plt.ylabel('Counts')\n",
    "plt.xlabel('Coupon Type')\n",
    "plt.savefig('images/plot2.png', bbox_inches = 'tight')"
   ]
  },
  {
   "cell_type": "markdown",
   "metadata": {},
   "source": [
    "#### Conclusion 2\n",
    "Reviewing the plot The coupon that unemployed people use the most is the \"Coffee House\" coupon and the one they use the least is the one for the most expensive restaurants"
   ]
  },
  {
   "cell_type": "markdown",
   "metadata": {},
   "source": [
    "analysis of the use of the coffee coupon by people who were unemployed, on Sunny days and whose temperatures were equal or greater than 55 compared to other climates and other temperatures"
   ]
  },
  {
   "cell_type": "code",
   "execution_count": 488,
   "metadata": {},
   "outputs": [
    {
     "name": "stdout",
     "output_type": "stream",
     "text": [
      "Acceptance rate for Unemployed who use the coupon on sunny days with temperatures above 5559.23%\n",
      "Acceptance rate for others Unemployed44.92%\n"
     ]
    }
   ],
   "source": [
    "#Filter by Sunny Weather and temperatures greater that 55\n",
    "filter1 = ((unemployed_data['Weather'] == \"Sunny\") & \n",
    "                        (unemployed_data['Temperature'].isin([55,80])) )\n",
    "           \n",
    "# Apply filter\n",
    "ans3 = unemployed_data[filter1]\n",
    "# Others\n",
    "ans3_others = unemployed_data[~filter1]\n",
    "\n",
    "# Rates\n",
    "rate_ans3 = ans3[\"Accepted\"].mean() * 100\n",
    "rate_ans3_others = ans3_others[\"Accepted\"].mean() * 100\n",
    "\n",
    "print(\"Acceptance rate for Unemployed who use the coupon on sunny days with temperatures above 55\"+\"\"+str(round(float(rate_ans3), 2)) + \"%\")\n",
    "print(\"Acceptance rate for others Unemployed\"+\"\"+str(round(float(rate_ans3_others), 2)) + \"%\")"
   ]
  },
  {
   "cell_type": "markdown",
   "metadata": {},
   "source": [
    "Let's review the information graphically"
   ]
  },
  {
   "cell_type": "code",
   "execution_count": 548,
   "metadata": {},
   "outputs": [
    {
     "data": {
      "image/png": "[encoded data removed]",
      "text/plain": [
       "<Figure size 1000x400 with 1 Axes>"
      ]
     },
     "metadata": {},
     "output_type": "display_data"
    }
   ],
   "source": [
    "# Barplot by Weather, Accepted and Temperature\n",
    "plt.figure(figsize=(10,4))\n",
    "sns.barplot(x='Weather', y='Accepted', data=unemployed_data, hue=\"Temperature\")\n",
    "plt.title('Aceptance rate by weather and temperature')\n",
    "plt.ylabel('Accepted')\n",
    "plt.xlabel('Weather')\n",
    "plt.grid()\n",
    "plt.savefig('images/plot3.png', bbox_inches = 'tight')"
   ]
  },
  {
   "cell_type": "markdown",
   "metadata": {},
   "source": [
    "#### Conclusion 3\n",
    "\n",
    "The acceptance rate of unemployed people who use the coupon on sunny days with temperatures above 55 is 15% higher than in other climates. We can also see how the climate with the highest acceptance rate is sunny at a temperature of 80."
   ]
  },
  {
   "cell_type": "markdown",
   "metadata": {},
   "source": [
    "Now I will focus on analyzing the information for the passengers carried by the driver of unemployed occupation."
   ]
  },
  {
   "cell_type": "code",
   "execution_count": 549,
   "metadata": {},
   "outputs": [
    {
     "data": {
      "image/png": "[encoded data removed]",
      "text/plain": [
       "<Figure size 640x480 with 1 Axes>"
      ]
     },
     "metadata": {},
     "output_type": "display_data"
    }
   ],
   "source": [
    "# barplot for Occupation\n",
    "sns.barplot(data = unemployed_data, x = 'Passanger', y = 'Accepted')\n",
    "plt.title('Accepted Coupon Distribution By Passanger Type and Marital Status')\n",
    "plt.xticks(rotation=45)\n",
    "plt.ylabel('Counts')\n",
    "plt.xlabel('Passanger Type')\n",
    "plt.savefig('images/plot4.png', bbox_inches = 'tight')"
   ]
  },
  {
   "cell_type": "markdown",
   "metadata": {},
   "source": [
    "Let's compare unemployed drivers who were accompanied by friends and who were under 25 years old."
   ]
  },
  {
   "cell_type": "code",
   "execution_count": 499,
   "metadata": {},
   "outputs": [
    {
     "name": "stdout",
     "output_type": "stream",
     "text": [
      "61.18811881188119\n",
      "52.024446142093204\n"
     ]
    }
   ],
   "source": [
    "# Filters to apply in dataframe\n",
    "\n",
    "#Filter by Sunny Weather and temperatures greater that 55\n",
    "filter_data = ((unemployed_data['Passanger'] == \"Friend(s)\") &\n",
    "                                 (unemployed_data['Age'] == '20') |\n",
    "                                 (unemployed_data['Age'] == '21'))\n",
    "\n",
    "# Apply filter\n",
    "ans4 = unemployed_data[filter_data]\n",
    "# Others\n",
    "ans4_others = unemployed_data[~filter_data]\n",
    "\n",
    "# Rates\n",
    "rate_ans4 = ans4[\"Accepted\"].mean() * 100\n",
    "rate_ans4_others = ans4_others[\"Accepted\"].mean() * 100\n",
    "\n",
    "print(rate_ans4)\n",
    "print(rate_ans4_others)\n"
   ]
  },
  {
   "cell_type": "markdown",
   "metadata": {},
   "source": [
    "#### Conclusion 4\n",
    "\n",
    "We can reach the conclusion that drivers who are unemployed and who are with friends in the car and who are under 25 years old have 9% higher Acceptance Rate than the other drivers."
   ]
  },
  {
   "cell_type": "markdown",
   "metadata": {},
   "source": [
    "por ultimo vamos a realizar un analisis de los conductores que estan desempleados y solteros, \n",
    "comparando cuando van para casa vs cuando van a \"No Urgent Place\""
   ]
  },
  {
   "cell_type": "code",
   "execution_count": 539,
   "metadata": {},
   "outputs": [],
   "source": [
    "data_single_home = unemployed_data[(unemployed_data[\"MaritalStatus\"] == \"Single\") &\n",
    "               (unemployed_data[\"Destination\"] == \"Home\")]\n",
    "\n",
    "data_no_urgent = unemployed_data[(unemployed_data[\"MaritalStatus\"] == \"Single\") &\n",
    "               (unemployed_data[\"Destination\"].isin([\"No Urgent Place\"]))]\n",
    "               "
   ]
  },
  {
   "cell_type": "code",
   "execution_count": 540,
   "metadata": {},
   "outputs": [
    {
     "name": "stdout",
     "output_type": "stream",
     "text": [
      "56.12%\n",
      "71.72%\n"
     ]
    }
   ],
   "source": [
    "rate_filter_1 = data_single_home[\"Accepted\"].mean() * 100\n",
    "rate_filter_2 = data_no_urgent[\"Accepted\"].mean() * 100\n",
    "\n",
    "print(str(round(float(rate_filter_1), 2)) + \"%\")\n",
    "print(str(round(float(rate_filter_2), 2)) + \"%\")"
   ]
  },
  {
   "cell_type": "code",
   "execution_count": 550,
   "metadata": {},
   "outputs": [
    {
     "data": {
      "image/png": "[encoded data removed]",
      "text/plain": [
       "<Figure size 640x480 with 1 Axes>"
      ]
     },
     "metadata": {},
     "output_type": "display_data"
    }
   ],
   "source": [
    "# barplot for Occupation\n",
    "sns.barplot(data = unemployed_data, x = 'Destination', y = 'Accepted', hue=\"MaritalStatus\")\n",
    "plt.title('Accepted Coupon Distribution By Passanger Type and Marital Status')\n",
    "plt.xticks(rotation=45)\n",
    "plt.ylabel('Counts')\n",
    "plt.xlabel('Passanger Type')\n",
    "plt.savefig('images/plot5.png', bbox_inches = 'tight')"
   ]
  },
  {
   "cell_type": "markdown",
   "metadata": {},
   "source": [
    "#### Conclusion 5\n",
    "\n",
    "We can also conclude that drivers who are single and who are going to a \"No Urgent Place\" destination are 15% more likely to accept the coupon than those who are going home."
   ]
  },
  {
   "cell_type": "code",
   "execution_count": null,
   "metadata": {},
   "outputs": [],
   "source": []
  }
 ],
 "metadata": {
  "kernelspec": {
   "display_name": "Python 3 (ipykernel)",
   "language": "python",
   "name": "python3"
  },
  "language_info": {
   "codemirror_mode": {
    "name": "ipython",
    "version": 3
   },
   "file_extension": ".py",
   "mimetype": "text/x-python",
   "name": "python",
   "nbconvert_exporter": "python",
   "pygments_lexer": "ipython3",
   "version": "3.11.5"
  },
  "widgets": {
   "application/vnd.jupyter.widget-state+json": {
    "state": {},
    "version_major": 2,
    "version_minor": 0
   }
  }
 },
 "nbformat": 4,
 "nbformat_minor": 4
}
